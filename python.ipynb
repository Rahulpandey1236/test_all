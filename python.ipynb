{
 "cells": [
  {
   "cell_type": "code",
   "execution_count": 1,
   "id": "2d080553-8b31-4dd6-9e44-87ee9e194155",
   "metadata": {},
   "outputs": [],
   "source": [
    "#1.1\n",
    ". Difference between static and dynamic variable in python ? \n",
    "Static Variable\n",
    "Definition: A static variable in Python is typically understood as a class variable. It is shared among all \n",
    "instances of a class and is defined within the class but outside of any instance methods. It is created once \n",
    "when the class is defined and retains its value across all instances of the class\n",
    "\n",
    "Dynamic Variable\n",
    "Definition: A dynamic variable in Python typically refers to an instance variable. It is unique to each\n",
    "instance of a class, meaning each object can have different values for this variable. Dynamic variables are \n",
    "created and can be modified during the runtime of the program\n"
   ]
  },
  {
   "cell_type": "code",
   "execution_count": 1,
   "id": "a4f22297-49bc-406f-8c14-7017d789677d",
   "metadata": {},
   "outputs": [],
   "source": [
    "* explain purpose of \"pop\",\"popitem\",\"clear\"?\n",
    "\n",
    "Purpose: The pop() method removes a specified key from the dictionary and returns the corresponding value. \n",
    "If the specified key is not found, it raises a KeyError unless a default value is provided\n",
    "popitem()\n",
    "Purpose: The popitem() method removes and returns the last key-value pair inserted into the dictionary as a \n",
    "tuple. This method is particularly useful when working with dictionaries in Python 3.7 and later, where \n",
    "dictionaries maintain insertion order\n",
    "Purpose: The clear() method removes all items from the dictionary, leaving it empty."
   ]
  },
  {
   "cell_type": "code",
   "execution_count": null,
   "id": "e0f3197c-0535-4711-93ab-cabd957d1b7e",
   "metadata": {},
   "outputs": [],
   "source": [
    "*what do you mean by frozen set ? explain it with suitable exampl?\n",
    "\n",
    "A frozen set in Python is an immutable version of a regular set. Once created, you cannot change its elements\n",
    "(i.e., you can't add, remove, or modify items)\n",
    " # Creating a frozen set\n",
    "frozen_set = frozenset([1, 2, 3])\n",
    "\n",
    "\n",
    "frozen_set.add(4) \n"
   ]
  },
  {
   "cell_type": "code",
   "execution_count": null,
   "id": "7ef2fcd5-e999-4c56-a5a1-670ac11a31db",
   "metadata": {},
   "outputs": [],
   "source": [
    "* what do you mean by mutable and immutable with example ?\n",
    "\n",
    "In Python, the terms mutable and immutable refer to whether an object's state (its data) can be changed after\n",
    "it is created \n",
    "eg - Lists, dictionaries, sets\n",
    "\n",
    "Definition: Objects whose values cannot be changed after creation.\n",
    "Examples: Tuples, strings, frozen sets, integers"
   ]
  },
  {
   "cell_type": "code",
   "execution_count": null,
   "id": "d5773a0e-e4bc-45e5-bf03-f19768b29bd6",
   "metadata": {},
   "outputs": [],
   "source": [
    "* what do you mean by __init__ ? with example .\n",
    "\n",
    "__init__ is a special method in Python known as a constructor. It is automatically called when a new instance\n",
    "of a class is created, allowing you to initialize the object's attribute\n",
    "class Dog:\n",
    "    def __init__(self, name, breed):\n",
    "        self.name = name  \n",
    "        self.breed = breed  \n",
    "\n",
    "\n",
    "my_dog = Dog(\"Buddy\", \"Golden Retriever\")\n",
    "\n",
    "print(my_dog.name)  \n",
    "print(my_dog.breed)  \n"
   ]
  },
  {
   "cell_type": "code",
   "execution_count": null,
   "id": "959a105b-0415-4119-82f9-b014f7d2a2d5",
   "metadata": {},
   "outputs": [],
   "source": [
    "* what is docstring ? explain with example?\n",
    "A docstring in Python is a string literal used to document a module, class, method, or function.\n",
    "It helps describe what the code does and how to use it. Docstrings are written inside triple quotes\n",
    "\"\"\" \"\"\" and can be accessed using the .__doc__ attribute.\n",
    "def greet(name):\n",
    "    \"\"\"This function greets the person whose name is passed as an argument.\"\"\"\n",
    "    return f\"Hello, {name}!\"\n",
    "\n",
    "\n",
    "print(greet.__doc__) \n"
   ]
  },
  {
   "cell_type": "code",
   "execution_count": null,
   "id": "eaebd4d5-9973-493e-a506-08285c9f563e",
   "metadata": {},
   "outputs": [],
   "source": [
    "* what are unit less in python?\n",
    "n Python, unitless generally refers to quantities or values that do not have a specific measurement unit\n",
    "associated with them. These are just numerical values without any context like meters, seconds, or kilograms.\n",
    "x = 5  \n"
   ]
  },
  {
   "cell_type": "code",
   "execution_count": null,
   "id": "7d2511ef-19cf-4c36-98e4-234f0f7aced8",
   "metadata": {},
   "outputs": [],
   "source": [
    "* what is break continue pass in python ?\n",
    "In Python, break, continue, and pass are control flow statements used within loops and conditional statements.\n",
    "for i in range(5):\n",
    "    if i == 3:\n",
    "        break  # Exits the loop when i is 3\n",
    "    print(i)\n",
    "\n",
    "    for i in range(5):\n",
    "    if i == 3:\n",
    "        continue  # Skips the iteration when i is 3\n",
    "    print(i)\n",
    "\n",
    "    for i in range(5):\n",
    "    if i == 3:\n",
    "        pass  # No action, just a placeholder\n",
    "    print(i)\n"
   ]
  },
  {
   "cell_type": "code",
   "execution_count": null,
   "id": "4b35191e-34b3-4696-9a08-2efba3264a3e",
   "metadata": {},
   "outputs": [],
   "source": [
    "* use of self in python?\n",
    "\n",
    "In Python, self is a reference to the current instance of the class. It is used to access variables and methods \n",
    "that belong to the class. When you create a method inside a class, the first parameter of that method is always\n",
    "self, which allows the method to access the attributes and other methods of the class."
   ]
  },
  {
   "cell_type": "code",
   "execution_count": null,
   "id": "6e052eb2-8595-4a84-9d42-dcbe22075e4b",
   "metadata": {},
   "outputs": [],
   "source": [
    "* what are golabal ,protected and private attributes in python?\n",
    "\n",
    " Global Attributes:\n",
    "Definition: These are not typically defined in the context of a class but are accessible throughout the entire \n",
    "module or program\n",
    "global_var = 42  # A global variable accessible anywhere in the module\n",
    "\n",
    "class MyClass:\n",
    "    def access_global(self):\n",
    "        print(global_var)\n",
    "\n",
    "obj = MyClass()\n",
    "obj.access_global()  \n",
    "\n",
    " Protected Attributes:\n",
    "Definition: These are indicated by a single underscore _ before the attribute name. By convention, they \n",
    "should not be accessed outside of the class or subclasses, though they are not strictly private\n",
    "class MyClass:\n",
    "    def __init__(self):\n",
    "        self._protected_var = \"I am protected\"\n",
    "\n",
    "class SubClass(MyClass):\n",
    "    def access_protected(self):\n",
    "        print(self._protected_var)\n",
    "\n",
    "obj = SubClass()\n",
    "obj.access_protected()  \n",
    "\n",
    "Definition: These are indicated by a double underscore __ before the attribute name. They are meant to be\n",
    "inaccessible outside the class where they are defined, but Python uses name mangling to prevent accidental acces\n",
    "class MyClass:\n",
    "    def __init__(self):\n",
    "        self.__private_var = \"I am private\"\n",
    "\n",
    "    def access_private(self):\n",
    "        print(self.__private_var)\n",
    "\n",
    "obj = MyClass()\n",
    "obj.access_private()  \n",
    "\n"
   ]
  },
  {
   "cell_type": "code",
   "execution_count": null,
   "id": "80cbcaa3-bd5d-4b31-af9b-a715f072c9f6",
   "metadata": {},
   "outputs": [],
   "source": [
    "* what are package and modules in python?\n",
    "Definition: A module is a single file (with a .py extension) that contains Python code, such as functions, \n",
    "classes, or variables. Modules allow you to logically organize your Python code, making it reusable and easier \n",
    "to manage\n",
    "\n",
    "Packages:\n",
    "Definition: A package is a collection of modules organized in directories that include a special __init__.py \n",
    "file. The __init__.py file is what differentiates a directory from a package and can be empty or contain \n",
    "initialization code for the package"
   ]
  },
  {
   "cell_type": "code",
   "execution_count": null,
   "id": "1fd39eac-deaa-4356-a566-b756f52e99a0",
   "metadata": {},
   "outputs": [],
   "source": [
    "* what are list and tuple ? how diffrn each other in sort?\n",
    "n Python, lists and tuples are both data structures used to store collections of items.\n",
    "They have similar purposes but differ in several key ways\n",
    "\n",
    "List:\n",
    "Definition: A mutable sequence that can store multiple items.\n",
    "\n",
    "Syntax: Defined using square brackets []\n",
    "\n",
    "Tuple:\n",
    "Definition: An immutable sequence that can store multiple items.\n",
    "\n",
    "Syntax: Defined using parentheses ()"
   ]
  },
  {
   "cell_type": "code",
   "execution_count": null,
   "id": "73905fe7-5060-489e-b03b-0085fdd29e91",
   "metadata": {},
   "outputs": [],
   "source": [
    "* diffrn between interpreted language and dynimacally typed language ? explain 5 in\n",
    "\n",
    ". Definition:\n",
    "Interpreted Language: Code is executed line-by-line by an interpreter.\n",
    "Dynamically Typed Language: Variable types are determined at runtime.\n",
    "2. Execution:\n",
    "Interpreted Language: No separate compilation step; execution is direct.\n",
    "Dynamically Typed Language: Types are checked and determined while the program is running.\n",
    "3. Type Checking:\n",
    "Interpreted Language: Type checking is not inherently related; focuses on execution.\n",
    "Dynamically Typed Language: Type errors occur at runtime due to lack of static type checking.\n",
    "4. Compilation:\n",
    "Interpreted Language: Typically does not involve a separate compilation phase.\n",
    "Dynamically Typed Language: Can be interpreted or compiled; typing is runtime-focused.\n",
    "5. Development:\n",
    "Interpreted Language: Allows for interactive development and testing.\n",
    "Dynamically Typed Language: May lead to runtime type-related errors if not carefully tested"
   ]
  },
  {
   "cell_type": "code",
   "execution_count": null,
   "id": "25b57132-15ae-4e18-832c-d9bcd75fc84a",
   "metadata": {},
   "outputs": [],
   "source": [
    "* what are dict and list comprehnsion?\n",
    "Definition: A compact way to create lists by applying an expression to each item in an iterable \n",
    "(like a list or range)\n",
    "Dict Comprehension:\n",
    "Definition: A concise way to create dictionaries by applying an expression to each item in an iterable, \n",
    "resulting in key-value pairs"
   ]
  },
  {
   "cell_type": "code",
   "execution_count": null,
   "id": "6528d447-34ef-4c07-82e6-50f47ebaf6bd",
   "metadata": {},
   "outputs": [],
   "source": [
    "* \n",
    "\n",
    "In Python, decorators are a powerful and flexible way to modify or enhance the behavior of functions or methods \n",
    "without changing their actual code. They are often used to add functionality such as logging, access control,\n",
    "or performance measurement to functions\n",
    "\n",
    "\n",
    "def my_decorator(func):\n",
    "    def wrapper():\n",
    "        print(\"Something is happening before the function is called.\")\n",
    "        func()\n",
    "        print(\"Something is happening after the function is called.\")\n",
    "    return wrapper\n",
    "\n",
    "# Use the decorator\n",
    "@my_decorator\n",
    "def say_hello():\n",
    "    print(\"Hello!\")\n",
    "\n",
    "# Call the decorated function\n",
    "say_hello()\n",
    "\n",
    "\n"
   ]
  },
  {
   "cell_type": "code",
   "execution_count": null,
   "id": "4f87ea6f-2044-4110-aad1-afb82cc2d893",
   "metadata": {},
   "outputs": [],
   "source": [
    "* how is memory management in python?\n",
    "\n",
    "Memory management in Python involves several key mechanisms:\n",
    "\n",
    "1. Automatic Garbage Collection:\n",
    "Definition: Python automatically manages memory by cleaning up unused objects.\n",
    "Mechanism: Uses reference counting and a cyclic garbage collector to reclaim memory occupied by objects no longer in use.\n",
    "2. Reference Counting:\n",
    "Definition: Each object has a count of references pointing to it.\n",
    "Action: When the reference count drops to zero, the memory is freed.\n",
    "3. Cyclic Garbage Collection:\n",
    "Definition: Handles objects involved in reference cycles (e.g., circular references).\n",
    "Action: Periodically detects and cleans up cycles that reference counting alone cannot handle.\n",
    "4. Memory Pooling:\n",
    "Definition: Python uses memory pools for efficient memory allocation of small objects.\n",
    "Action: Reduces overhead by reusing memory blocks for frequently allocated small objects.\n",
    "5. Dynamic Typing and Memory Allocation:\n",
    "Definition: Python dynamically allocates memory for variables based on their types.\n",
    "Action: Adjusts memory usage as variables change type or size"
   ]
  },
  {
   "cell_type": "code",
   "execution_count": null,
   "id": "b495cff6-1a7c-40e5-9f0a-154a50456186",
   "metadata": {},
   "outputs": [],
   "source": [
    "* what is lambda function in python why it is used?\n",
    "A lambda function in Python is a small, anonymous function defined using the lambda keyword. It is often used \n",
    "for short, throwaway functions where a full def statement is not necessary\n",
    " uses:\n",
    "        Conciseness: Ideal for simple functions that can be written in a single line.\n",
    "Functional Programming: Often used with functions like map(), filter(), and sorted() where a short function \n",
    "is required"
   ]
  },
  {
   "cell_type": "code",
   "execution_count": null,
   "id": "7e0cf2d8-41db-42ed-b318-63e9f8551f71",
   "metadata": {},
   "outputs": [],
   "source": [
    "* use of split and join?\n",
    "split() Method:\n",
    "Definition: Splits a string into a list of substrings based on a specified delimiter.\n",
    "Syntax: string.split(separator, maxsplit)\n",
    "separator: The delimiter on which to split the string (default is any whitespace).\n",
    "maxsplit: Optional; the maximum number of splits to perform\n",
    "\n",
    "join() Method:\n",
    "Definition: Combines a list of strings into a single string, with a specified delimiter between each element.\n",
    "Syntax: delimiter.join(iterable)\n",
    "delimiter: The string used to join elements.\n",
    "iterable: The iterable (e.g., list) of strings to join"
   ]
  },
  {
   "cell_type": "code",
   "execution_count": null,
   "id": "ef7ff9f7-cccf-43e0-9766-d49030b4951e",
   "metadata": {},
   "outputs": [],
   "source": [
    "*what are iterators,interable and generator in python?\n",
    "\n",
    "Iterable:\n",
    "Definition: An object that can return an iterator. It defines a __iter__() method which returns an iterator.\n",
    "Examples: Lists, tuples, dictionaries, and sets are iterables.\n",
    "Usage: You can loop over an iterable with a for loop or use functions like iter().\n",
    "\n",
    "Iterator:\n",
    "Definition: An object that represents a stream of data and provides a __next__() method to fetch the next item and a __iter__() method returning itself.\n",
    "Usage: Iterators are used to loop through data one element at a time.\n",
    "\n",
    "Generator:\n",
    "Definition: A special type of iterator created with a function using yield instead of return. It generates items on-the-fly and is more memory-efficient for large data.\n",
    "Usage: Use generators to handle large data sets or streams efficiently"
   ]
  },
  {
   "cell_type": "code",
   "execution_count": null,
   "id": "2f50e3af-ea5f-4536-90d0-0f90f428e7ad",
   "metadata": {},
   "outputs": [],
   "source": [
    "* xrange and range in python?\n",
    "Python 2: Use xrange for lazy evaluation and range for lists.\n",
    "Python 3: range behaves like xrange in Python 2, providing lazy evaluation and efficient"
   ]
  },
  {
   "cell_type": "code",
   "execution_count": null,
   "id": "3e757f31-9257-41d5-b00c-39ea9e794fd5",
   "metadata": {},
   "outputs": [],
   "source": [
    "*pillars of oops?\n",
    "The four pillars of Object-Oriented Programming (OOP) are:\n",
    "\n",
    "1. Encapsulation:\n",
    "Definition: Bundling data (attributes) and methods (functions) that operate on the data into a single unit or class.\n",
    "Purpose: Restricts direct access to some of an object’s components, which can help prevent unintended interference and misuse.\n",
    "2. Abstraction:\n",
    "Definition: Hiding complex implementation details and showing only the essential features of an object.\n",
    "Purpose: Simplifies interaction with complex systems by providing a clear interface.\n",
    "3. Inheritance:\n",
    "Definition: Creating a new class that is based on an existing class, inheriting its attributes and methods.\n",
    "Purpose: Promotes code reusability and establishes a natural hierarchy between classes.\n",
    "4. Polymorphism:\n",
    "Definition: The ability to use a single interface to represent different underlying forms (data types).\n",
    "Purpose: Allows objects of different classes to be treated as objects of a common super class, particularly useful for method overriding and operator overloading"
   ]
  },
  {
   "cell_type": "code",
   "execution_count": null,
   "id": "0c9130c9-93ef-4480-aef2-57558eaaa865",
   "metadata": {},
   "outputs": [],
   "source": [
    "* how will you chek a class is a child of another classs ?\n",
    "Using issubclass():\n",
    "Syntax: issubclass(subclass, superclass)\n",
    "subclass: The class you want to check.\n",
    "superclass: The class you are checking against\n",
    "\n",
    "class Parent:\n",
    "    pass\n",
    "\n",
    "class Child(Parent):\n",
    "    pass\n",
    "\n",
    "# Check if Child is a subclass of Parent\n",
    "print(issubclass(Child, Parent))  # Output: True\n",
    "\n",
    "# Check if Parent is a subclass of Child\n",
    "print(issubclass(Parent, Child))  # Output: False\n"
   ]
  },
  {
   "cell_type": "code",
   "execution_count": null,
   "id": "b9ff52e9-1f67-4663-91f3-d6daefbb7061",
   "metadata": {},
   "outputs": [],
   "source": [
    "* how does inheritnce work in python ? types of inheritence\n",
    "\n",
    "How Inheritance Works:\n",
    "Definition:\n",
    "\n",
    "A subclass inherits the properties and behaviors of a superclass, allowing it to use and extend the \n",
    "functionality of the parent class\n",
    "class Parent:\n",
    "    pass\n",
    "\n",
    "class Child(Parent):\n",
    "    pass\n",
    "\n",
    "Single Inheritance: One superclass.\n",
    "Multiple Inheritance: Multiple superclasses.\n",
    "Multilevel Inheritance: A chain of inheritance.\n",
    "Hierarchical Inheritance: One superclass with multiple subclasses.\n",
    "Hybrid Inheritance: A combination of different inheritance types"
   ]
  },
  {
   "cell_type": "code",
   "execution_count": null,
   "id": "8a999da1-3f88-4127-8b16-08293c98767e",
   "metadata": {},
   "outputs": [],
   "source": [
    "* what is encapsulation? explain with example\n",
    "Key Points:\n",
    "Data Hiding: Internal state is hidden from outside access.\n",
    "Access Control: Use of methods to access and modify data ensures that the object’s state is controlled and \n",
    "validated\n",
    "\n",
    "class BankAccount:\n",
    "    def __init__(self, balance):\n",
    "        self.__balance = balance  # Private attribute\n",
    "\n",
    "    def deposit(self, amount):\n",
    "        if amount > 0:\n",
    "            self.__balance += amount\n",
    "\n",
    "    def withdraw(self, amount):\n",
    "        if 0 < amount <= self.__balance:\n",
    "            self.__balance -= amount\n",
    "\n",
    "    def get_balance(self):\n",
    "        return self.__balance\n",
    "\n",
    "\n",
    "account = BankAccount(1000)\n",
    "\n",
    "# Accessing methods\n",
    "account.deposit(500)\n",
    "account.withdraw(200)\n",
    "\n",
    "# Accessing balance through a method\n",
    "print(account.get_balance())  # \n"
   ]
  },
  {
   "cell_type": "code",
   "execution_count": null,
   "id": "a83e4cd3-5440-4dff-bd02-2e26808ddea8",
   "metadata": {},
   "outputs": [],
   "source": [
    "* polymorphism i python ? explain with example \n",
    "Polymorphism in Python refers to the ability of different objects to be accessed through the same interface, \n",
    "allowing different types of objects to be treated as instances of a common superclass. It allows methods to do \n",
    "different things based on the object it is acting upon, providing flexibility and interchangeability\n",
    "\n",
    "class Animal:\n",
    "    def speak(self):\n",
    "        print(\"Animal speaks\")\n",
    "\n",
    "class Dog(Animal):\n",
    "    def speak(self):\n",
    "        print(\"Dog barks\")\n",
    "\n",
    "class Cat(Animal):\n",
    "    def speak(self):\n",
    "        print(\"Cat meows\")\n",
    "\n",
    "def make_animal_speak(animal):\n",
    "    animal.speak()\n",
    "\n",
    "\n",
    "dog = Dog()\n",
    "cat = Cat()\n",
    "\n",
    "\n",
    "make_animal_speak(dog)  \n",
    "make_animal_speak(cat)\n"
   ]
  },
  {
   "cell_type": "code",
   "execution_count": 4,
   "id": "34b94bf6-2e07-4f3c-88c8-84e31d000b09",
   "metadata": {},
   "outputs": [],
   "source": [
    "#1.2 which of the following identifier name are inavlid and why \n",
    "serial_no #valid\n",
    "1st_room #invalid\n",
    "Hundered$ #invalid\n",
    "Total_marks #valid\n",
    "total-marks #invalid\n",
    "Total marks #invalid\n",
    "True #invalid\n",
    "_percentage #invalid\n",
    "\n"
   ]
  },
  {
   "cell_type": "code",
   "execution_count": 10,
   "id": "5ceaefdf-be3c-4fee-8b4c-78571843730c",
   "metadata": {},
   "outputs": [
    {
     "data": {
      "text/plain": [
       "['freedom_fighter', 'Moahn', 'dash', 'karan', 'chandra', 'gandhi', 'bapu']"
      ]
     },
     "execution_count": 10,
     "metadata": {},
     "output_type": "execute_result"
    }
   ],
   "source": [
    "#1.3 \n",
    "name = [\"Moahn\",\"dash\",\"karan\",\"chandra\",\"gandhi\",\"bapu\"]\n",
    "# A.\n",
    "name.insert(0,\"freedom_fighter\")\n",
    "name\n",
    "\n"
   ]
  },
  {
   "cell_type": "code",
   "execution_count": 11,
   "id": "69e6ee92-e979-4bd7-a61f-86baedb28133",
   "metadata": {},
   "outputs": [
    {
     "name": "stdout",
     "output_type": "stream",
     "text": [
      "8\n"
     ]
    }
   ],
   "source": [
    "#1.3 B.\n",
    "names = ['freedom_fighter', 'Moahn', 'dash', 'karan', 'chandra', 'gandhi', 'bapu']\n",
    "length1 = len((names[-len(name)+1:-1:2]))\n",
    "length2 = len((names[-len(name)+1:-1]))\n",
    "print(length1+length2)\n"
   ]
  },
  {
   "cell_type": "code",
   "execution_count": 15,
   "id": "fafac19d-166f-48a7-ab90-14af4460cdb4",
   "metadata": {},
   "outputs": [
    {
     "data": {
      "text/plain": [
       "['freedom_fighter',\n",
       " 'Moahn',\n",
       " 'dash',\n",
       " 'karan',\n",
       " 'chandra',\n",
       " 'gandhi',\n",
       " 'bapu',\n",
       " 'neta ji',\n",
       " 'Bose']"
      ]
     },
     "execution_count": 15,
     "metadata": {},
     "output_type": "execute_result"
    }
   ],
   "source": [
    "#1.3 c \n",
    "name.extend([\"neta ji\",\"Bose\"])\n",
    "name"
   ]
  },
  {
   "cell_type": "code",
   "execution_count": 16,
   "id": "ce9d3416-c09c-4370-bcba-1dd8ba27f7e0",
   "metadata": {},
   "outputs": [
    {
     "name": "stdout",
     "output_type": "stream",
     "text": [
      "['bapu', 'dash', 'karan', 'chandra', 'gandhi', 'Moahn']\n"
     ]
    }
   ],
   "source": [
    "#1.3 D\n",
    "name = [\"Moahn\",\"dash\",\"karan\",\"chandra\",\"gandhi\",\"bapu\"]\n",
    "temp = name[-1]\n",
    "name[-1] = name[0]\n",
    "name[0] = temp\n",
    "print(name)\n"
   ]
  },
  {
   "cell_type": "code",
   "execution_count": 19,
   "id": "6c664a9b-6dac-407c-8eb0-b7175e87a7f6",
   "metadata": {},
   "outputs": [
    {
     "name": "stdout",
     "output_type": "stream",
     "text": [
      "2\n",
      "4\n",
      "7\n"
     ]
    }
   ],
   "source": [
    "#1.4 find the output of the following\n",
    "animal = ['human','cat','mat','cat','rat','human','lion']\n",
    "print(animal.count('human'))\n",
    "print(animal.index('rat'))\n",
    "print(len(animal))"
   ]
  },
  {
   "cell_type": "code",
   "execution_count": 26,
   "id": "4350a94c-446b-4113-9a1e-76d8ee636233",
   "metadata": {},
   "outputs": [
    {
     "name": "stdout",
     "output_type": "stream",
     "text": [
      "8\n",
      "Navneet\n",
      "Ji\n",
      "22\n",
      "1\n"
     ]
    }
   ],
   "source": [
    "#1.5 \n",
    "tuple1 = (10,20,\"Apple\",3.4,'a',[\"Master\",\"Ji\"],(\"sita\",\"geeta\",22),[{\"roll_no\":1},{\"name\":\"Navneet\"}])\n",
    "print(len(tuple1))\n",
    "print(tuple1[-1][-1][\"name\"])\n",
    "print(tuple1[-3][1])\n",
    "print(tuple1[6][2])\n",
    "print(tuple1[7][0]['roll_no'])"
   ]
  },
  {
   "cell_type": "code",
   "execution_count": 1,
   "id": "274705ca-c157-44aa-a64f-0a1d91b0860e",
   "metadata": {},
   "outputs": [
    {
     "name": "stdout",
     "output_type": "stream",
     "text": [
      "Stop\n",
      "Stay\n",
      "Go\n",
      "Invalid color\n"
     ]
    }
   ],
   "source": [
    "#1.6write a program to display the appropriate message as per the color og signal Red-stop yellow -stay green - go\n",
    "#at the road croosing\n",
    "\n",
    "\n",
    "def traffic_signal_message(color):\n",
    "    if color.lower() == \"red\":\n",
    "        print(\"Stop\")\n",
    "    elif color.lower() == \"yellow\":\n",
    "        print(\"Stay\")\n",
    "    elif color.lower() == \"green\":\n",
    "        print(\"Go\")\n",
    "    else:\n",
    "        print(\"Invalid color\")\n",
    "\n",
    "\n",
    "traffic_signal_message(\"Red\") \n",
    "traffic_signal_message(\"yellow\") \n",
    "traffic_signal_message(\"GREEN\")  \n",
    "traffic_signal_message(\"blue\")   \n"
   ]
  },
  {
   "cell_type": "code",
   "execution_count": 5,
   "id": "9ff23a2a-987a-4a13-ae7a-d6d136e80fc9",
   "metadata": {},
   "outputs": [
    {
     "name": "stdout",
     "output_type": "stream",
     "text": [
      "Simple Calculator\n",
      "Select operation:\n",
      "1. Add\n",
      "2. Subtract\n",
      "3. Multiply\n",
      "4. Divide\n"
     ]
    },
    {
     "name": "stdin",
     "output_type": "stream",
     "text": [
      "Enter choice (1/2/3/4):  2\n",
      "Enter first number:  34\n",
      "Enter second number:  45\n"
     ]
    },
    {
     "name": "stdout",
     "output_type": "stream",
     "text": [
      "34.0 - 45.0 = -11.0\n"
     ]
    }
   ],
   "source": [
    "#1.7  write a program to create a simple calculator perform basic operatin(+,-,/,*)\n",
    "\n",
    "def add(x, y):\n",
    "    return x + y\n",
    "\n",
    "def subtract(x, y):\n",
    "    return x - y\n",
    "\n",
    "def multiply(x, y):\n",
    "    return x * y\n",
    "\n",
    "\n",
    "def divide(x, y):\n",
    "    if y == 0:\n",
    "        return \"Error! Division by zero.\"\n",
    "    else:\n",
    "        return x / y\n",
    "\n",
    "\n",
    "def calculator():\n",
    "    print(\"Simple Calculator\")\n",
    "    print(\"Select operation:\")\n",
    "    print(\"1. Add\")\n",
    "    print(\"2. Subtract\")\n",
    "    print(\"3. Multiply\")\n",
    "    print(\"4. Divide\")\n",
    "\n",
    "    \n",
    "    choice = input(\"Enter choice (1/2/3/4): \")\n",
    "\n",
    "  \n",
    "    if choice in ['1', '2', '3', '4']:\n",
    "        \n",
    "        num1 = float(input(\"Enter first number: \"))\n",
    "        num2 = float(input(\"Enter second number: \"))\n",
    "\n",
    "        if choice == '1':\n",
    "            print(f\"{num1} + {num2} = {add(num1, num2)}\")\n",
    "        elif choice == '2':\n",
    "            print(f\"{num1} - {num2} = {subtract(num1, num2)}\")\n",
    "        elif choice == '3':\n",
    "            print(f\"{num1} * {num2} = {multiply(num1, num2)}\")\n",
    "        elif choice == '4':\n",
    "            print(f\"{num1} / {num2} = {divide(num1, num2)}\")\n",
    "    else:\n",
    "        print(\"Invalid Input\")\n",
    "\n",
    "\n",
    "calculator()\n"
   ]
  },
  {
   "cell_type": "code",
   "execution_count": 6,
   "id": "00b99b23-3f32-485b-8bb8-2b3d1bd8b176",
   "metadata": {},
   "outputs": [
    {
     "name": "stdout",
     "output_type": "stream",
     "text": [
      "The largest number is: 20\n"
     ]
    }
   ],
   "source": [
    "#1.8 write a program to find the larger of the three pre-specified numbers using ternery operator\n",
    "# Pre-specified numbers\n",
    "a = 10\n",
    "b = 20\n",
    "c = 15\n",
    "\n",
    "largest = a if (a > b and a > c) else (b if b > c else c)\n",
    "\n",
    "print(f\"The largest number is: {largest}\")\n"
   ]
  },
  {
   "cell_type": "code",
   "execution_count": 7,
   "id": "8cd39462-8412-4c16-9433-353bde2f2ef5",
   "metadata": {},
   "outputs": [
    {
     "name": "stdin",
     "output_type": "stream",
     "text": [
      "Enter a whole number:  34\n"
     ]
    },
    {
     "name": "stdout",
     "output_type": "stream",
     "text": [
      "Factors of 34 are:\n",
      "1\n",
      "2\n",
      "17\n",
      "34\n"
     ]
    }
   ],
   "source": [
    "# 1.9 WAP to find the factors of a whole number using while loop?\n",
    "# Input: A whole number\n",
    "number = int(input(\"Enter a whole number: \"))\n",
    "\n",
    "i = 1\n",
    "print(f\"Factors of {number} are:\")\n",
    "while i <= number:\n",
    "    if number % i == 0:\n",
    "        print(i)\n",
    "    i += 1\n"
   ]
  },
  {
   "cell_type": "code",
   "execution_count": 8,
   "id": "1015a9e0-1aea-43e9-bc35-f029df89b124",
   "metadata": {},
   "outputs": [
    {
     "name": "stdin",
     "output_type": "stream",
     "text": [
      "Enter a positive number (or a negative number to stop):  45\n",
      "Enter a positive number (or a negative number to stop):  45\n",
      "Enter a positive number (or a negative number to stop):  -4\n"
     ]
    },
    {
     "name": "stdout",
     "output_type": "stream",
     "text": [
      "The sum of all positive numbers entered is: 90\n"
     ]
    }
   ],
   "source": [
    "#1.10 wap to find the sum of all the positive numbers entered by the user . As soon as the user enters a negative \n",
    "# number ,stop taking in any further input from the user and display the sum\n",
    "\n",
    "total_sum = 0\n",
    "\n",
    "while True:\n",
    "  \n",
    "    number = int(input(\"Enter a positive number (or a negative number to stop): \"))\n",
    "    \n",
    "  \n",
    "    if number < 0:\n",
    "        break \n",
    "    \n",
    " \n",
    "    total_sum += number\n",
    "\n",
    "print(f\"The sum of all positive numbers entered is: {total_sum}\")\n"
   ]
  },
  {
   "cell_type": "code",
   "execution_count": 9,
   "id": "d0202813-2859-4eb0-b1a9-6fc6b7102716",
   "metadata": {},
   "outputs": [
    {
     "name": "stdout",
     "output_type": "stream",
     "text": [
      "2 3 5 7 11 13 17 19 23 29 31 37 41 43 47 53 59 61 67 71 73 79 83 89 97 101 103 107 109 113 127 131 137 139 149 151 157 163 167 173 179 181 191 193 197 199 "
     ]
    }
   ],
   "source": [
    "#1.11 wap to find all prime numers between 2 to 200 using nested loops \n",
    "\n",
    "for num in range(2, 201):  \n",
    "    is_prime = True \n",
    "\n",
    "   \n",
    "    for i in range(2, int(num**0.5) + 1): \n",
    "        if num % i == 0:\n",
    "            is_prime = False  \n",
    "            break \n",
    "\n",
    "\n",
    "    if is_prime:\n",
    "        print(num, end=\" \")\n",
    "\n"
   ]
  },
  {
   "cell_type": "code",
   "execution_count": 19,
   "id": "f0b8bb96-58b7-48b3-a534-20605e4642c0",
   "metadata": {},
   "outputs": [
    {
     "name": "stdout",
     "output_type": "stream",
     "text": [
      "Grade C\n"
     ]
    }
   ],
   "source": [
    "#1.12 \n",
    "Hindi = 78\n",
    "English = 80\n",
    "Math = 50\n",
    "Science = 61\n",
    "SST = 76\n",
    "\n",
    "Total_marks = Hindi+English+Math+Science+SST\n",
    "percentage = Total_marks/5\n",
    "\n",
    "\n",
    "if percentage > 85:\n",
    "    print(\"Grade A\")\n",
    "elif 75 <= percentage <= 85:  \n",
    "    print(\"Grade B\")\n",
    "elif 50 <= percentage < 75: \n",
    "    print(\"Grade C\")\n",
    "elif 30 < percentage < 50:  \n",
    "    print(\"Grade D\")\n",
    "else:  \n",
    "    print(\"Reappear\")\n",
    "\n",
    "    "
   ]
  },
  {
   "cell_type": "code",
   "execution_count": 31,
   "id": "7eab93ac-4587-4e55-bb62-5db679271ef7",
   "metadata": {},
   "outputs": [
    {
     "name": "stdout",
     "output_type": "stream",
     "text": [
      "Green\n"
     ]
    }
   ],
   "source": [
    "#1.13 \n",
    "wavelength = 500\n",
    "if 400 <=wavelength <440:\n",
    "    print(\"violet\")\n",
    "elif 440<= wavelength <460:\n",
    "    print(\"indigo\")\n",
    "elif 460<=wavelength<500:\n",
    "    print(\"Blue\")\n",
    "elif 500<= wavelength <570:\n",
    "    print(\"Green\")\n",
    "    \n",
    "elif 570<=wavelength <590:\n",
    "    print(\"yellow\")\n",
    "    \n",
    "elif 590<=wavelength <620:\n",
    "    print(\"orange\")\n",
    "    \n",
    "elif 620<=wavelength <=720:\n",
    "    print(\"Red\")"
   ]
  },
  {
   "cell_type": "code",
   "execution_count": 37,
   "id": "ad125aeb-5cb9-49b5-aa58-f324bf52f5b3",
   "metadata": {},
   "outputs": [
    {
     "name": "stdout",
     "output_type": "stream",
     "text": [
      "F is 1.957601248999235e+26\n",
      "F1 is  7.618552207343536e+28\n",
      "F1 is more strong\n"
     ]
    }
   ],
   "source": [
    "#1.14 \n",
    "mass_earth = 5.972e24\n",
    "mass_moon = 7.34767309e22\n",
    "mass_sun = 1.989e30\n",
    "\n",
    "distance_earth_sun = 1.496e11\n",
    "distance_moon_earth = 3.844e8\n",
    "G = 6.674e-11\n",
    "\n",
    "#gravitational force betwen earth and sun\n",
    "F = G*mass_earth*mass_moon/distance_earth_sun\n",
    "\n",
    "#grav bw moon and earth\n",
    "F1 = G*mass_moon*mass_earth/distance_moon_earth\n",
    "\n",
    "print(\"F is\",F)\n",
    "print(\"F1 is \",F1)\n",
    "F1\n",
    "\n",
    "if F<F1:\n",
    "    print(\"F1 is more strong\")\n",
    "    \n",
    "else:\n",
    "    print(\"F is strong\")\n",
    "            "
   ]
  },
  {
   "cell_type": "code",
   "execution_count": 1,
   "id": "c1b166b1-2fc3-489e-ae84-ec25a9f4a9f3",
   "metadata": {},
   "outputs": [
    {
     "name": "stdout",
     "output_type": "stream",
     "text": [
      "Pi: 3.141592653589793\n",
      "Speed of Light: 299792458 m/s\n"
     ]
    }
   ],
   "source": [
    "#11.define a python module named constant.py containing constants like pi and the speed of the light\n",
    "\n",
    "# constant.py\n",
    "\n",
    "\n",
    "PI = 3.141592653589793 \n",
    "\n",
    "# Physical constants\n",
    "SPEED_OF_LIGHT = 299792458  \n",
    "\n",
    "# Other common constants\n",
    "GRAVITATIONAL_CONSTANT = 6.67430e-11 \n",
    "PLANCK_CONSTANT = 6.62607015e-34 \n",
    "BOLTZMANN_CONSTANT = 1.380649e-23 \n",
    "AVOGADRO_CONSTANT = 6.02214076e23 \n",
    "\n",
    "# Example of usage\n",
    "if __name__ == \"__main__\":\n",
    "    print(f\"Pi: {PI}\")\n",
    "    print(f\"Speed of Light: {SPEED_OF_LIGHT} m/s\")\n",
    "    \n",
    "    import constant\n",
    "\n",
    "print(constant.PI)\n",
    "print(constant.SPEED_OF_LIGHT)\n"
   ]
  },
  {
   "cell_type": "code",
   "execution_count": null,
   "id": "61ec636a-49c6-46db-a760-f2be1ddf30bb",
   "metadata": {},
   "outputs": [],
   "source": [
    "\n",
    "\n"
   ]
  },
  {
   "cell_type": "code",
   "execution_count": null,
   "id": "37a736e5-1586-49fb-b230-b7f3898e55f9",
   "metadata": {},
   "outputs": [],
   "source": []
  }
 ],
 "metadata": {
  "kernelspec": {
   "display_name": "Python 3 (ipykernel)",
   "language": "python",
   "name": "python3"
  },
  "language_info": {
   "codemirror_mode": {
    "name": "ipython",
    "version": 3
   },
   "file_extension": ".py",
   "mimetype": "text/x-python",
   "name": "python",
   "nbconvert_exporter": "python",
   "pygments_lexer": "ipython3",
   "version": "3.10.8"
  }
 },
 "nbformat": 4,
 "nbformat_minor": 5
}
